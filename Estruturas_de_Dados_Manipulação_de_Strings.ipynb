{
  "nbformat": 4,
  "nbformat_minor": 0,
  "metadata": {
    "colab": {
      "provenance": []
    },
    "kernelspec": {
      "name": "python3",
      "display_name": "Python 3"
    },
    "language_info": {
      "name": "python"
    }
  },
  "cells": [
    {
      "cell_type": "markdown",
      "source": [
        "# **Python para Engenharia de Dados**"
      ],
      "metadata": {
        "id": "Fvuuxno2jeL1"
      }
    },
    {
      "cell_type": "markdown",
      "source": [
        "***Exercícios – Manipulação de Strings***"
      ],
      "metadata": {
        "id": "2Jsgdo8Tfp40"
      }
    },
    {
      "cell_type": "markdown",
      "source": [
        "--------------------------------------------------------------------------------\n",
        "1. Solicite ao usuário que digite uma frase. Imprima:\n",
        "\t- o tamanho (em caracteres) da frase\n",
        "\t- a frase toda em maiúscula\n",
        "\t- a frase toda em minúscula\n",
        "\t- a frase na vertical(letra por letra)\n",
        "\t- solicite ao usuário que informe uma posição inicial e final na frase, e imprima a parte da frase que se encontra dentro das posições informadas pelo usuário\n",
        "\t- a frase em ordem inversa\n",
        "\t- solicite ao usuário que informe duas palavras. Substitua, na frase informada, a primeira palavra informada pelo usuário, pela segunda palavra informada. Armazene a nova frase em uma nova variável, e imprima o conteúdo da nova variável.\n",
        "\n"
      ],
      "metadata": {
        "id": "G98a_TGEftwH"
      }
    },
    {
      "cell_type": "code",
      "source": [
        "frase = None\n",
        "\n",
        "try:\n",
        "    frase = input(str(print(f'Informe uma frase qualquer:')))\n",
        "except ValueError:\n",
        "    print('Você deve informar um valor no formato \"str\" (texto)')\n",
        "\n",
        "print(frase)\n",
        "# O tamanho (em caracteres) da frase;\n",
        "print(f'O tamanho da frase é: {len(frase)}.')\n",
        "# A frase toda em maiúscula;\n",
        "print(f'A frase toda em maiuscula: {frase.upper()}')\n",
        "# A frase toda em minúscula\n",
        "print(f'A frase toda em minuscula {frase.lower()}.')\n",
        "# A frase na vertical(letra por letra);\n",
        "\n",
        "for i in frase:\n",
        "    print(i)\n",
        "\n",
        "# Solicite ao usuário que informe uma posição inicial e final na frase, e imprima a parte da frase que se encontra dentro das posições informadas pelo usuário;\n",
        "\n",
        "posid1 = None\n",
        "posid2 = None\n",
        "\n",
        "try:\n",
        "    posid1 = int(input(print('Informe a primeira posição: ')))\n",
        "    print(f'A primeira posição é {posid1}.')\n",
        "    posid2 = int(input(print('Informe a segunda posição: ')))\n",
        "    print(f'A segunda posição é {posid2}.')\n",
        "except ValueError:\n",
        "    print('Informe valores inteiros.')\n",
        "\n",
        "print(f'{frase[posid1:posid2]}')    \n",
        "\n",
        "# A frase em ordem inversa\n",
        "print(f'{frase[::-1]}')\n",
        "\n",
        "# Solicite ao usuário que informe duas palavras. Substitua, na frase informada, a primeira palavra informada pelo usuário, pela segunda palavra informada. \n",
        "# Armazene nova frase em uma nova variável, e imprima o conteúdo da nova variável.\n",
        "\n",
        "substitua = []\n",
        "for i in range(2):\n",
        "    while True:\n",
        "        palavra = input(f'Informe a {i+1}ª palavra: ')\n",
        "        if not isinstance(palavra, str):\n",
        "            print('A palavra informada não é uma string, digite novamente!')\n",
        "            continue\n",
        "        substitua.append(palavra)\n",
        "        print(f'A {i+1}ª palavra informada é: {palavra}')\n",
        "        break\n",
        "while True:\n",
        "    frase = input(f'Informe uma frase: ')\n",
        "    if not isinstance(frase, str):\n",
        "        print('A frase digitada não é uma string, digite novamente!')\n",
        "        continue\n",
        "    print(f'A frase informada é: {frase}.')\n",
        "    break\n",
        "\n",
        "frase = frase.replace(substitua[0], substitua[1])\n",
        "print(f'A frase modificada é {frase}.')"
      ],
      "metadata": {
        "colab": {
          "base_uri": "https://localhost:8080/"
        },
        "id": "IPoKuud-fzxc",
        "outputId": "8677b19c-d4ca-4e3a-b7a9-a053719e8155"
      },
      "execution_count": 3,
      "outputs": [
        {
          "output_type": "stream",
          "name": "stdout",
          "text": [
            "Informe uma frase qualquer:\n",
            "NoneO senhor é meu pastor e nada me faltara!\n",
            "O senhor é meu pastor e nada me faltara!\n",
            "O tamanho da frase é: 40.\n",
            "A frase toda em maiuscula: O SENHOR É MEU PASTOR E NADA ME FALTARA!\n",
            "A frase toda em minuscula o senhor é meu pastor e nada me faltara!.\n",
            "O\n",
            " \n",
            "s\n",
            "e\n",
            "n\n",
            "h\n",
            "o\n",
            "r\n",
            " \n",
            "é\n",
            " \n",
            "m\n",
            "e\n",
            "u\n",
            " \n",
            "p\n",
            "a\n",
            "s\n",
            "t\n",
            "o\n",
            "r\n",
            " \n",
            "e\n",
            " \n",
            "n\n",
            "a\n",
            "d\n",
            "a\n",
            " \n",
            "m\n",
            "e\n",
            " \n",
            "f\n",
            "a\n",
            "l\n",
            "t\n",
            "a\n",
            "r\n",
            "a\n",
            "!\n",
            "Informe a primeira posição: \n",
            "None5\n",
            "A primeira posição é 5.\n",
            "Informe a segunda posição: \n",
            "None30\n",
            "A segunda posição é 30.\n",
            "hor é meu pastor e nada m\n",
            "!aratlaf em adan e rotsap uem é rohnes O\n",
            "Informe a 1ª palavra: senhor\n",
            "A 1ª palavra informada é: senhor\n",
            "Informe a 2ª palavra: pastor\n",
            "A 2ª palavra informada é: pastor\n",
            "Informe uma frase: O cruzeiro é o maior de minas\n",
            "A frase informada é: O cruzeiro é o maior de minas.\n",
            "A frase modificada é O cruzeiro é o maior de minas.\n"
          ]
        }
      ]
    },
    {
      "cell_type": "markdown",
      "source": [
        "--------------------------------------------------------------------------------\n",
        "2. Solicite ao usuário que digite uma frase. Em seguida, solicite ao mesmo que digite uma palavra. Imprima uma mensagem informando a quantidade de vezes em que a palavra se encontra na frase (considere que a palavra pode estar em maiúscula ou minúscula na frase).\n"
      ],
      "metadata": {
        "id": "dmDYlDmvf3kl"
      }
    },
    {
      "cell_type": "code",
      "source": [
        "frase = input(print(f'Informe uma frase: '))\n",
        "print(f'{frase}')\n",
        "palavra = input(print(f'Informe uma palavra: '))\n",
        "print(f'{palavra}.')\n",
        "print(f'A quantidade de vezes que a palavra \"{palavra}\" aparece na \"{frase}\" é de: {(frase.upper().count(palavra.upper()))}')"
      ],
      "metadata": {
        "colab": {
          "base_uri": "https://localhost:8080/"
        },
        "id": "9G0fCcVGf55O",
        "outputId": "99523dcf-fc6a-4bad-bc01-91e168d5578b"
      },
      "execution_count": 4,
      "outputs": [
        {
          "output_type": "stream",
          "name": "stdout",
          "text": [
            "Informe uma frase: \n",
            "NoneTeste de palavra da palavra palavra\n",
            "Teste de palavra da palavra palavra\n",
            "Informe uma palavra: \n",
            "Nonepalavra\n",
            "palavra.\n",
            "A quantidade de vezes que a palavra \"palavra\" aparece na \"Teste de palavra da palavra palavra\" é de: 3\n"
          ]
        }
      ]
    },
    {
      "cell_type": "markdown",
      "source": [
        "--------------------------------------------------------------------------------\n",
        "3. Solicite ao usuário que digite uma frase. Em seguida, solicite ao mesmo que informe um caractere de maneira que a frase seja dividida em partes de acordo com o caractere informado. Imprima na tela a frase dividida."
      ],
      "metadata": {
        "id": "Q6H67tpGf6Pm"
      }
    },
    {
      "cell_type": "code",
      "source": [
        "frase = input('Informe uma frase: ')\n",
        "caractere = input('Informe um caractere: ')\n",
        "print(f'{frase.split(caractere)}')"
      ],
      "metadata": {
        "colab": {
          "base_uri": "https://localhost:8080/"
        },
        "id": "3u3zuLzzf8kT",
        "outputId": "5f5503a1-f22b-4f84-eb78-111fb66b86ae"
      },
      "execution_count": 5,
      "outputs": [
        {
          "output_type": "stream",
          "name": "stdout",
          "text": [
            "Informe uma frase: O senhor é meu pastor e nada me faltará!\n",
            "Informe um caractere: a\n",
            "['O senhor é meu p', 'stor e n', 'd', ' me f', 'lt', 'rá!']\n"
          ]
        }
      ]
    },
    {
      "cell_type": "markdown",
      "source": [
        "--------------------------------------------------------------------------------\n",
        "4. Solicite ao usuário que digite uma palavra. Em seguida, solicite ao mesmo que informe um caractere separador, de maneira que o separador seja incluído na palavra, separando cada letra da palavra digitada. "
      ],
      "metadata": {
        "id": "AumAa03Uf8_P"
      }
    },
    {
      "cell_type": "code",
      "source": [
        "palavra = input('Informe uma palavra: ')\n",
        "separador = input('Informe um separador: ')\n",
        "print(separador.join(palavra))"
      ],
      "metadata": {
        "colab": {
          "base_uri": "https://localhost:8080/"
        },
        "id": "xfsyc5_jf-sS",
        "outputId": "368ffe20-efed-4f9e-e111-678a3b07aaf3"
      },
      "execution_count": 6,
      "outputs": [
        {
          "output_type": "stream",
          "name": "stdout",
          "text": [
            "Informe uma palavra: Cruzeiro\n",
            "Informe um separador: ,\n",
            "C,r,u,z,e,i,r,o\n"
          ]
        }
      ]
    },
    {
      "cell_type": "markdown",
      "source": [
        "--------------------------------------------------------------------------------\n",
        "5. Solicite ao usuário que digite uma palavra e imprima uma mensagem informando se a palavra é ou não um palíndromo (uma palavra que se lê da mesma maneira nos dois sentidos. Por exemplo: OVO, RADAR, OSSO etc.)"
      ],
      "metadata": {
        "id": "CF9T5W-Hf_A8"
      }
    },
    {
      "cell_type": "code",
      "source": [
        "frase = input(print('Informe uma palavra palíndome, ou seja, uma palavra que se lê da mesma maneira nos dois sentidos: '))\n",
        "\n",
        "palindromo = frase[::-1]\n",
        "\n",
        "if (frase == palindromo):\n",
        "        print(\"A palavra é um palíndromo!\")\n",
        "else:\n",
        "    print(\"A palavra não é um palíndromo.\")"
      ],
      "metadata": {
        "colab": {
          "base_uri": "https://localhost:8080/"
        },
        "id": "PoT5Lvfbirej",
        "outputId": "d8c6a881-92b7-4b49-8756-bc2b72130f8f"
      },
      "execution_count": 8,
      "outputs": [
        {
          "output_type": "stream",
          "name": "stdout",
          "text": [
            "Informe uma palavra palíndome, ou seja, uma palavra que se lê da mesma maneira nos dois sentidos: \n",
            "Noneovo\n",
            "A palavra é um palíndromo!\n"
          ]
        }
      ]
    }
  ]
}