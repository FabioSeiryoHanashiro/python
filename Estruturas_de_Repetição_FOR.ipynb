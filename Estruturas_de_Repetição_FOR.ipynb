{
  "nbformat": 4,
  "nbformat_minor": 0,
  "metadata": {
    "colab": {
      "provenance": []
    },
    "kernelspec": {
      "name": "python3",
      "display_name": "Python 3"
    },
    "language_info": {
      "name": "python"
    }
  },
  "cells": [
    {
      "cell_type": "markdown",
      "source": [
        "# **Python para Engenharia de Dados**"
      ],
      "metadata": {
        "id": "hpZVArSxa2eH"
      }
    },
    {
      "cell_type": "markdown",
      "source": [
        "***Exercícios – Python para Engenharia de Dados - Estruturas de Repetição - FOR***"
      ],
      "metadata": {
        "id": "wmbUUXfra4XE"
      }
    },
    {
      "cell_type": "markdown",
      "source": [
        "--------------------------------------------------------------------------------\n",
        "1. Faça um programa que faça a leitura de 5 valores, e para cada valor, mostre o seu dobro na tela."
      ],
      "metadata": {
        "id": "75Jvp2GbbEzX"
      }
    },
    {
      "cell_type": "code",
      "execution_count": 3,
      "metadata": {
        "colab": {
          "base_uri": "https://localhost:8080/"
        },
        "id": "tusenA0-ayF7",
        "outputId": "f8918304-cdbd-42da-8d91-d2b1454c77de"
      },
      "outputs": [
        {
          "output_type": "stream",
          "name": "stdout",
          "text": [
            "2  X  1  =  2 \n",
            "\n",
            "2  X  2  =  4 \n",
            "\n",
            "2  X  3  =  6 \n",
            "\n",
            "2  X  4  =  8 \n",
            "\n",
            "2  X  5  =  10 \n",
            "\n"
          ]
        }
      ],
      "source": [
        "dobro=2\n",
        "\n",
        "for i in range(1,6):\n",
        "\n",
        "  print(dobro,\" X \",i,\" = \",dobro*i, \"\\n\")"
      ]
    },
    {
      "cell_type": "markdown",
      "source": [
        "--------------------------------------------------------------------------------\n",
        "2. Faça um programa que leia um número e que imprima os números ímpares de 1 até o número informado."
      ],
      "metadata": {
        "id": "K3b9P1DabGnp"
      }
    },
    {
      "cell_type": "code",
      "source": [
        "numero = int(input(\"Digite um número inteiro: \"))\n",
        "\n",
        "for i in range(1, numero+1, 2):\n",
        "\n",
        "  print(i)"
      ],
      "metadata": {
        "colab": {
          "base_uri": "https://localhost:8080/"
        },
        "id": "AM4utJO0bJOt",
        "outputId": "6db718c7-3d4d-4427-eb26-ce4759188a93"
      },
      "execution_count": 4,
      "outputs": [
        {
          "output_type": "stream",
          "name": "stdout",
          "text": [
            "Digite um número inteiro: 10\n",
            "1\n",
            "3\n",
            "5\n",
            "7\n",
            "9\n"
          ]
        }
      ]
    },
    {
      "cell_type": "markdown",
      "source": [
        "--------------------------------------------------------------------------------\n",
        "3. Leia um número e imprima a tabuada de multiplicar deste número. Por exemplo, para o número 5:"
      ],
      "metadata": {
        "id": "mrH4VrmybJhi"
      }
    },
    {
      "cell_type": "code",
      "source": [
        "num=int(input(\"Tabuada de multiplicar! Digite um numero de 1 a 10.\\n\"))\n",
        "\n",
        "print(\" Tabuada do \",num,\":\\n\")\n",
        "\n",
        "for i in range(1,11):\n",
        "\n",
        "  print(num,\" X \",i,\" = \",num*i, \"\\n\")"
      ],
      "metadata": {
        "colab": {
          "base_uri": "https://localhost:8080/"
        },
        "id": "1tr7xoYsbNUB",
        "outputId": "a04fc97e-6d27-4868-f25b-4c0766edee0f"
      },
      "execution_count": 5,
      "outputs": [
        {
          "output_type": "stream",
          "name": "stdout",
          "text": [
            "Tabuada de multiplicar! Digite um numero de 1 a 10.\n",
            "5\n",
            " Tabuada do  5 :\n",
            "\n",
            "5  X  1  =  5 \n",
            "\n",
            "5  X  2  =  10 \n",
            "\n",
            "5  X  3  =  15 \n",
            "\n",
            "5  X  4  =  20 \n",
            "\n",
            "5  X  5  =  25 \n",
            "\n",
            "5  X  6  =  30 \n",
            "\n",
            "5  X  7  =  35 \n",
            "\n",
            "5  X  8  =  40 \n",
            "\n",
            "5  X  9  =  45 \n",
            "\n",
            "5  X  10  =  50 \n",
            "\n"
          ]
        }
      ]
    },
    {
      "cell_type": "markdown",
      "source": [
        "--------------------------------------------------------------------------------\n",
        "4. Faça um programa que leia dois números inteiros e que imprima todos os números inteiros existentes entre o menor e o maior número informados."
      ],
      "metadata": {
        "id": "HRGuiOXxbNl1"
      }
    },
    {
      "cell_type": "code",
      "source": [
        "num1 = int(input(\"Digite o primeiro número inteiro: \"))\n",
        "num2 = int(input(\"Digite o segundo número inteiro: \"))\n",
        "\n",
        "if num1 < num2:\n",
        "  for i in range(num1+1, num2):\n",
        "    print(i)\n",
        "\n",
        "else:\n",
        "  for i in range(num2+1, num1):\n",
        "    print(i)"
      ],
      "metadata": {
        "colab": {
          "base_uri": "https://localhost:8080/"
        },
        "id": "vK5HhBV9bQmf",
        "outputId": "d630a70a-ef08-449f-9b20-89aa0f8e46b7"
      },
      "execution_count": 6,
      "outputs": [
        {
          "output_type": "stream",
          "name": "stdout",
          "text": [
            "Digite o primeiro número inteiro: 2\n",
            "Digite o segundo número inteiro: 4\n",
            "3\n"
          ]
        }
      ]
    },
    {
      "cell_type": "markdown",
      "source": [
        "--------------------------------------------------------------------------------\n",
        "5. Faça um programa que leia um número que calcule a soma dos números inteiros entre 1 e o número informado."
      ],
      "metadata": {
        "id": "xgV-yRpCbRAf"
      }
    },
    {
      "cell_type": "code",
      "source": [
        "numero = int(input(\"Digite um número inteiro: \"))\n",
        "soma = 0\n",
        "\n",
        "for i in range(1, numero+1):\n",
        "  soma += i\n",
        "print(\"A soma dos números inteiros entre 1 e\", numero, \"é:\", soma)"
      ],
      "metadata": {
        "colab": {
          "base_uri": "https://localhost:8080/"
        },
        "id": "jou8pttrbT91",
        "outputId": "5bd2e27a-9cd2-4b43-a8f9-c4482f0f62fa"
      },
      "execution_count": 8,
      "outputs": [
        {
          "output_type": "stream",
          "name": "stdout",
          "text": [
            "Digite um número inteiro: 3\n",
            "A soma dos números inteiros entre 1 e 3 é: 6\n"
          ]
        }
      ]
    },
    {
      "cell_type": "markdown",
      "source": [
        "--------------------------------------------------------------------------------\n",
        "6. Faça um programa que leia um número e que calcule o fatorial deste número."
      ],
      "metadata": {
        "id": "IfHHlInNbWEg"
      }
    },
    {
      "cell_type": "code",
      "source": [
        "numero = 16\n",
        "fatorial = 1\n",
        "\n",
        "for i in range(1, numero+1):\n",
        "  fatorial *= i\n",
        "print(\"O fatorial de\", numero, \"é:\", fatorial)"
      ],
      "metadata": {
        "colab": {
          "base_uri": "https://localhost:8080/"
        },
        "id": "XizjhsbRbXSM",
        "outputId": "078be70e-eecc-41bc-d41f-6e9c55c33019"
      },
      "execution_count": 13,
      "outputs": [
        {
          "output_type": "stream",
          "name": "stdout",
          "text": [
            "O fatorial de 16 é: 20922789888000\n"
          ]
        }
      ]
    },
    {
      "cell_type": "markdown",
      "source": [
        "--------------------------------------------------------------------------------\n",
        "7. Faça um programa que solicite ao usuário que informe o peso, em kg, de 10 pessoas, e em seguida, exiba a média desses pesos."
      ],
      "metadata": {
        "id": "RiEoPY5NbaRU"
      }
    },
    {
      "cell_type": "code",
      "source": [
        "soma = 0\n",
        "\n",
        "for i in range(1, 11):\n",
        "  peso = float(input(f\"Digite o peso da pessoa {str(i)}: \"))\n",
        "  soma += peso\n",
        "\n",
        "media = soma / 10\n",
        "\n",
        "print(\"A média dos pesos informados é:\", media, \"kg\")"
      ],
      "metadata": {
        "colab": {
          "base_uri": "https://localhost:8080/"
        },
        "id": "dr7mAD4sbbNf",
        "outputId": "234dcdc2-961e-4980-ed97-6596b5830793"
      },
      "execution_count": 15,
      "outputs": [
        {
          "output_type": "stream",
          "name": "stdout",
          "text": [
            "Digite o peso da pessoa 1: 93\n",
            "Digite o peso da pessoa 2: 60\n",
            "Digite o peso da pessoa 3: 45\n",
            "Digite o peso da pessoa 4: 70\n",
            "Digite o peso da pessoa 5: 15\n",
            "Digite o peso da pessoa 6: 32\n",
            "Digite o peso da pessoa 7: 44\n",
            "Digite o peso da pessoa 8: 18\n",
            "Digite o peso da pessoa 9: 10\n",
            "Digite o peso da pessoa 10: 20\n",
            "A média dos pesos informados é: 40.7 kg\n"
          ]
        }
      ]
    },
    {
      "cell_type": "markdown",
      "source": [
        "--------------------------------------------------------------------------------\n",
        "8. Faça um programa que leia o sexo e o peso de 10 pessoas, e mostre quantas pessoas do sexo masculino possuem peso entre 60 e 80 kg, bem como a quantidade de mulheres que possuem peso entre 50 e 70 kg."
      ],
      "metadata": {
        "id": "R6BE_3RibdV3"
      }
    },
    {
      "cell_type": "code",
      "source": [
        "homens = 0\n",
        "mulheres = 0\n",
        "\n",
        "for i in range(1, 11):\n",
        "  sexo = input(f\"Digite o sexo da pessoa {str(i)} (M/F): \")\n",
        "  peso = float(input(f\"Digite o peso da pessoa {str(i)}: \"))\n",
        "\n",
        "  if sexo == \"M\":\n",
        "    if peso >= 60 and peso <= 80:\n",
        "      homens += 1\n",
        "  elif sexo == \"F\":\n",
        "    if peso >= 50 and peso <= 70:\n",
        "      mulheres += 1\n",
        "\n",
        "print(\"Quantidade de homens com peso entre 60 e 80 kg:\", homens)\n",
        "print(\"Quantidade de mulheres com peso entre 50 e 70 kg:\", mulheres)"
      ],
      "metadata": {
        "colab": {
          "base_uri": "https://localhost:8080/"
        },
        "id": "HjVGvpQvbeDx",
        "outputId": "b67f43dd-4370-4259-eb66-54a814667e15"
      },
      "execution_count": 16,
      "outputs": [
        {
          "output_type": "stream",
          "name": "stdout",
          "text": [
            "Digite o sexo da pessoa 1 (M/F): M\n",
            "Digite o peso da pessoa 1: 93\n",
            "Digite o sexo da pessoa 2 (M/F): F\n",
            "Digite o peso da pessoa 2: 60\n",
            "Digite o sexo da pessoa 3 (M/F): M\n",
            "Digite o peso da pessoa 3: 50\n",
            "Digite o sexo da pessoa 4 (M/F): F\n",
            "Digite o peso da pessoa 4: 30\n",
            "Digite o sexo da pessoa 5 (M/F): M\n",
            "Digite o peso da pessoa 5: 90\n",
            "Digite o sexo da pessoa 6 (M/F): F\n",
            "Digite o peso da pessoa 6: 180\n",
            "Digite o sexo da pessoa 7 (M/F): M\n",
            "Digite o peso da pessoa 7: 10\n",
            "Digite o sexo da pessoa 8 (M/F): F\n",
            "Digite o peso da pessoa 8: 15\n",
            "Digite o sexo da pessoa 9 (M/F): M\n",
            "Digite o peso da pessoa 9: 60\n",
            "Digite o sexo da pessoa 10 (M/F): F\n",
            "Digite o peso da pessoa 10: 93\n",
            "Quantidade de homens com peso entre 60 e 80 kg: 1\n",
            "Quantidade de mulheres com peso entre 50 e 70 kg: 1\n"
          ]
        }
      ]
    },
    {
      "cell_type": "markdown",
      "source": [
        "--------------------------------------------------------------------------------\n",
        "9. Faça um programa que leia a idade e peso de sete pessoas. Calcule e mostre:\n",
        "\n",
        "- a quantidade de pessoas com mais de 90 kg\n",
        "\n",
        "- a média das idades das sete pessoas"
      ],
      "metadata": {
        "id": "ILxsGjKfbgqw"
      }
    },
    {
      "cell_type": "code",
      "source": [
        "soma_idades = 0\n",
        "quantidade_acima_90 = 0\n",
        "\n",
        "for i in range(1, 8):\n",
        "  idade = int(input(f\"Digite a idade da pessoa {str(i)}: \"))\n",
        "  peso = float(input(f\"Digite o peso da pessoa {str(i)}: \"))\n",
        "\n",
        "  soma_idades += idade\n",
        "\n",
        "  if peso > 90:\n",
        "    quantidade_acima_90 += 1\n",
        "\n",
        "media_idades = soma_idades / 7\n",
        "\n",
        "print(\"Quantidade de pessoas com mais de 90 kg:\", quantidade_acima_90)\n",
        "print(f\"Média das idades das sete pessoas: {media_idades:.2f}\")"
      ],
      "metadata": {
        "colab": {
          "base_uri": "https://localhost:8080/"
        },
        "id": "KV3pxq4-bhh0",
        "outputId": "26e97151-b0c0-407b-d9d1-8ff00604cc8a"
      },
      "execution_count": 18,
      "outputs": [
        {
          "output_type": "stream",
          "name": "stdout",
          "text": [
            "Digite a idade da pessoa 1: 42\n",
            "Digite o peso da pessoa 1: 93\n",
            "Digite a idade da pessoa 2: 40\n",
            "Digite o peso da pessoa 2: 60\n",
            "Digite a idade da pessoa 3: 11\n",
            "Digite o peso da pessoa 3: 30\n",
            "Digite a idade da pessoa 4: 17\n",
            "Digite o peso da pessoa 4: 55\n",
            "Digite a idade da pessoa 5: 60\n",
            "Digite o peso da pessoa 5: 50\n",
            "Digite a idade da pessoa 6: 80\n",
            "Digite o peso da pessoa 6: 60\n",
            "Digite a idade da pessoa 7: 18\n",
            "Digite o peso da pessoa 7: 74\n",
            "Quantidade de pessoas com mais de 90 kg: 1\n",
            "Média das idades das sete pessoas: 38.29\n"
          ]
        }
      ]
    },
    {
      "cell_type": "markdown",
      "source": [
        "--------------------------------------------------------------------------------\n",
        "10. Faça um programa que leia um número e que imprima na tela se o número é primo ou não."
      ],
      "metadata": {
        "id": "4OulPawzbjtE"
      }
    },
    {
      "cell_type": "code",
      "source": [
        "num = int(input(\"Digite um número: \"))\n",
        "primo = True\n",
        "\n",
        "for i in range(2, num):\n",
        "  if num % i == 0:\n",
        "    primo = False\n",
        "    break\n",
        "\n",
        "if primo:\n",
        "  print(num, \"é um número primo.\")\n",
        "else:\n",
        "  print(num, \"não é um número primo.\")"
      ],
      "metadata": {
        "colab": {
          "base_uri": "https://localhost:8080/"
        },
        "id": "PpTTIplVbkRf",
        "outputId": "242d64b3-7fb9-49d8-83e4-990e5e14eca6"
      },
      "execution_count": 19,
      "outputs": [
        {
          "output_type": "stream",
          "name": "stdout",
          "text": [
            "Digite um número: 10\n",
            "10 não é um número primo.\n"
          ]
        }
      ]
    }
  ]
}