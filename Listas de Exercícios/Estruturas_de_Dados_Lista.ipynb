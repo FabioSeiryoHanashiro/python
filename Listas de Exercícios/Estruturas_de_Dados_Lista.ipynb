{
  "nbformat": 4,
  "nbformat_minor": 0,
  "metadata": {
    "colab": {
      "provenance": []
    },
    "kernelspec": {
      "name": "python3",
      "display_name": "Python 3"
    },
    "language_info": {
      "name": "python"
    }
  },
  "cells": [
    {
      "cell_type": "markdown",
      "source": [
        "# **Python para Engenharia de Dados**"
      ],
      "metadata": {
        "id": "MkmYJi3mjiqP"
      }
    },
    {
      "cell_type": "markdown",
      "source": [
        "***Exercícios – Estruturas de Dados - Lista***\n"
      ],
      "metadata": {
        "id": "0x0Y2K6fjke7"
      }
    },
    {
      "cell_type": "markdown",
      "source": [
        "--------------------------------------------------------------------------------\n",
        "1.\tCrie uma lista contendo 10 valores inteiros aleatórios, entre 1 e 20. Imprima:\n",
        "a.\tO maior valor, o menor valor, a soma e a média dos valores na lista\n",
        "b.\tOrdene a lista, e em seguida, a imprima em ordem crescente\n",
        "c.\tImprima a lista em ordem decrescente\n",
        "d.\tSolicite ao usuário que informe um valor e imprima a quantidade de ocorrências do valor na lista. Imprima uma mensagem, caso o valor não se encontre na lista"
      ],
      "metadata": {
        "id": "O4naBKjijoms"
      }
    },
    {
      "cell_type": "code",
      "source": [
        "import random\n",
        "\n",
        "valores = [random.randint(1, 20) for i in range(10)]\n",
        "lista = valores\n",
        "print(lista)\n",
        "\n",
        "# O maior valor, o menor valor, a soma e a média dos valores na lista\n",
        "\n",
        "print(f'O maior valor é: {max(lista)}.')\n",
        "print(f'O menor valor é: {min(lista)}.')\n",
        "print(f'A soma dos valores é: {sum(lista)}.')\n",
        "print(f'A media dos valores é: {(sum(lista)/len(lista))}.')\n",
        "\n",
        "# Ordene a lista, e em seguida, a imprima em ordem crescente\n",
        "lista.sort()\n",
        "lista\n",
        "\n",
        "# Imprima a lista em ordem decrescente\n",
        "lista.reverse()\n",
        "lista"
      ],
      "metadata": {
        "colab": {
          "base_uri": "https://localhost:8080/"
        },
        "id": "0rkeUvw_kEwc",
        "outputId": "f4b2e484-386d-4ff3-d9cd-3437fdfcfe17"
      },
      "execution_count": 1,
      "outputs": [
        {
          "output_type": "stream",
          "name": "stdout",
          "text": [
            "[4, 13, 18, 4, 17, 7, 19, 18, 14, 5]\n",
            "O maior valor é: 19.\n",
            "O menor valor é: 4.\n",
            "A soma dos valores é: 119.\n",
            "A media dos valores é: 11.9.\n"
          ]
        },
        {
          "output_type": "execute_result",
          "data": {
            "text/plain": [
              "[19, 18, 18, 17, 14, 13, 7, 5, 4, 4]"
            ]
          },
          "metadata": {},
          "execution_count": 1
        }
      ]
    },
    {
      "cell_type": "markdown",
      "source": [
        "--------------------------------------------------------------------------------\n",
        "2.\tCrie duas listas com 10 valores inteiros aleatórios (escolha uma faixa qualquer). Crie outras duas listas: uma que contenha a soma dos elementos de mesma posição das duas listas originais, e outra que contenha a multiplicação dos valores de mesma posição. Imprima em seguida as 3 listas."
      ],
      "metadata": {
        "id": "Z03L9IxLjq9Y"
      }
    },
    {
      "cell_type": "code",
      "source": [
        "import random\n",
        "import numpy as np\n",
        "\n",
        "# Crie duas listas com 10 valores inteiros aleatórios\n",
        "lista1 = random.sample(range(0, 20), 10)\n",
        "lista2 = random.sample(range(0, 30), 10)\n",
        "\n",
        "# Ordenando as listas\n",
        "lista1.sort()\n",
        "lista2.sort()\n",
        "\n",
        "# Utilizando a função sum e zip para somar os elementos das listas na mesma posição\n",
        "soma_elementos = [sum(values) for values in zip(lista1, lista2)]\n",
        "soma_elementos.sort()\n",
        "\n",
        "# Imprimindo a primeira lista, segunda lista e a soma dos elementos na mesma posição\n",
        "print('Primeira Lista:', lista1)\n",
        "print('Segunda Lista:', lista2)\n",
        "print('Soma dos elementos da mesma posição:', soma_elementos)\n",
        "\n",
        "# Utilizando a função prod do numpy e zip para multiplicar os elementos das listas na mesma posição\n",
        "multiplicacao_elementos = [np.prod(values) for values in zip(lista1, lista2)]\n",
        "\n",
        "# Imprimindo a primeira lista, segunda lista e a multiplicação dos elementos na mesma posição\n",
        "print('Primeira Lista:', lista1)\n",
        "print('Segunda Lista:', lista2)\n",
        "print('Multiplicação dos elementos da mesma posição:', multiplicacao_elementos)"
      ],
      "metadata": {
        "colab": {
          "base_uri": "https://localhost:8080/"
        },
        "id": "WMay1suUkFLn",
        "outputId": "79463ee0-2139-4925-a161-f0d3ba1579ce"
      },
      "execution_count": 2,
      "outputs": [
        {
          "output_type": "stream",
          "name": "stdout",
          "text": [
            "Primeira Lista: [1, 3, 4, 8, 9, 10, 11, 14, 17, 19]\n",
            "Segunda Lista: [0, 1, 2, 5, 6, 9, 10, 21, 26, 28]\n",
            "Soma dos elementos da mesma posição: [1, 4, 6, 13, 15, 19, 21, 35, 43, 47]\n",
            "Primeira Lista: [1, 3, 4, 8, 9, 10, 11, 14, 17, 19]\n",
            "Segunda Lista: [0, 1, 2, 5, 6, 9, 10, 21, 26, 28]\n",
            "Multiplicação dos elementos da mesma posição: [0, 3, 8, 40, 54, 90, 110, 294, 442, 532]\n"
          ]
        }
      ]
    },
    {
      "cell_type": "markdown",
      "source": [
        "--------------------------------------------------------------------------------\n",
        "3.\tConsidere a seguinte lista: [10, 20, 30, 30, 30, 40, 10, 20]\n",
        "\tFaça um programa que exclua todas as ocorrências do número 30 da lista"
      ],
      "metadata": {
        "id": "mQoXSLgsjtY0"
      }
    },
    {
      "cell_type": "code",
      "source": [
        "# Define a lista\n",
        "lista = [10, 20, 30, 30, 30, 40, 10, 20]\n",
        "\n",
        "# Loop para remover todas as ocorrências do número 30\n",
        "while 30 in lista:\n",
        "    lista.remove(30)\n",
        "\n",
        "# Imprime a lista resultante\n",
        "print(lista)"
      ],
      "metadata": {
        "colab": {
          "base_uri": "https://localhost:8080/"
        },
        "id": "q4vYBHCckFm3",
        "outputId": "17a6bfb3-d121-462a-f659-ad1e49df3b25"
      },
      "execution_count": 4,
      "outputs": [
        {
          "output_type": "stream",
          "name": "stdout",
          "text": [
            "[10, 20, 40, 10, 20]\n"
          ]
        }
      ]
    },
    {
      "cell_type": "markdown",
      "source": [
        "--------------------------------------------------------------------------------\n",
        "4.\tCrie uma lista contendo 10 valores inteiros aleatórios (escolha uma faixa qualquer). Crie outras duas listas: uma para armazenar os valores pares da primeira lista, e outra para armazenar os valores ímpares. Imprima em seguida as 3 listas."
      ],
      "metadata": {
        "id": "4i3jvZbrjvUo"
      }
    },
    {
      "cell_type": "code",
      "source": [
        "import random\n",
        "\n",
        "# Cria uma lista com 10 valores inteiros aleatórios entre 1 e 100\n",
        "lista = [random.randint(1, 100) for i in range(10)]\n",
        "\n",
        "# Cria listas para armazenar os valores pares e ímpares\n",
        "pares = []\n",
        "impares = []\n",
        "\n",
        "# Loop para separar os valores pares e ímpares na lista original\n",
        "for valor in lista:\n",
        "    if valor % 2 == 0:\n",
        "        pares.append(valor)\n",
        "    else:\n",
        "        impares.append(valor)\n",
        "\n",
        "# Imprime as três listas\n",
        "print(\"Lista original:\", lista)\n",
        "print(\"Valores pares:\", pares)\n",
        "print(\"Valores ímpares:\", impares)"
      ],
      "metadata": {
        "colab": {
          "base_uri": "https://localhost:8080/"
        },
        "id": "qe0NNQs_kGCn",
        "outputId": "3f1e3d35-1120-4dd7-8471-b447603df4f3"
      },
      "execution_count": 5,
      "outputs": [
        {
          "output_type": "stream",
          "name": "stdout",
          "text": [
            "Lista original: [23, 93, 2, 60, 20, 12, 43, 92, 91, 4]\n",
            "Valores pares: [2, 60, 20, 12, 92, 4]\n",
            "Valores ímpares: [23, 93, 43, 91]\n"
          ]
        }
      ]
    },
    {
      "cell_type": "markdown",
      "source": [
        "--------------------------------------------------------------------------------\n",
        "5.\tSolicite ao usuário que digite uma data no formato DD/MM/AAAA e imprima a data por extenso. Por exemplo:\n",
        "1/11/2022 – 08 de novembro de 2022\n",
        "(dica: crie uma lista contendo o nome de cada mês do ano)"
      ],
      "metadata": {
        "id": "0QiHIQsAjxJ_"
      }
    },
    {
      "cell_type": "code",
      "source": [
        "# Solicita que o usuário digite a data no formato DD/MM/AAAA\n",
        "data = input(\"Digite a data no formato DD/MM/AAAA: \")\n",
        "\n",
        "# Separa os valores do dia, mês e ano em uma lista\n",
        "try:\n",
        "    dia, mes, ano = data.split(\"/\")\n",
        "    if len(dia) != 2 or len(mes) != 2 or len(ano) != 4:\n",
        "        raise ValueError\n",
        "except ValueError:\n",
        "    print('Data informada é invalida, digite novamente!')\n",
        "else:\n",
        "    # Cria uma lista com o nome de cada mês\n",
        "    meses = [\"\", \"janeiro\", \"fevereiro\", \"março\", \"abril\", \"maio\", \"junho\", \n",
        "         \"julho\", \"agosto\", \"setembro\", \"outubro\", \"novembro\", \"dezembro\"]\n",
        "    # Imprime a data por extenso no formato desejado\n",
        "    print(f\"{dia} de {meses[int(mes)]} de {ano}\")"
      ],
      "metadata": {
        "colab": {
          "base_uri": "https://localhost:8080/"
        },
        "id": "CjZdX9z0kGgd",
        "outputId": "b0374887-171f-44e8-960c-860af69a1eb8"
      },
      "execution_count": 6,
      "outputs": [
        {
          "output_type": "stream",
          "name": "stdout",
          "text": [
            "Digite a data no formato DD/MM/AAAA: 27/09/1980\n",
            "27 de setembro de 1980\n"
          ]
        }
      ]
    },
    {
      "cell_type": "markdown",
      "source": [
        "--------------------------------------------------------------------------------\n",
        "6.\tFaça um programa que gere uma lista contendo 6 números aleatórios, de 1 a 60, que serão jogados na Mega-Sena. Em seguida, solicite ao usuário os 6 números sorteados. Imprima a lista contendo os números jogados, e a quantidade de números acertados no sorteio."
      ],
      "metadata": {
        "id": "TyUuHKwAjzQe"
      }
    },
    {
      "cell_type": "code",
      "source": [
        "import random\n",
        "\n",
        "# Gera uma lista com 6 números aleatórios de 1 a 60\n",
        "numeros_jogados = random.sample(range(1, 61), 6)\n",
        "\n",
        "# Solicita ao usuário os 6 números sorteados\n",
        "numeros_sorteio = []\n",
        "for i in range(6):\n",
        "    while True:\n",
        "        numero = int(input(f\"Digite o {i+1}º número sorteado (entre 1 e 60): \"))\n",
        "        if numero >= 1 and numero <= 60:\n",
        "            numeros_sorteio.append(numero)\n",
        "            break\n",
        "        else:\n",
        "            print('Número invalido, digite novamente!')\n",
        "\n",
        "# Imprime a lista com os números jogados\n",
        "print(f\"Números jogados: {numeros_jogados}\")\n",
        "numeros_jogados.sort()\n",
        "\n",
        "\n",
        "# Conta quantos números foram acertados\n",
        "acertos = 0\n",
        "for numero in numeros_sorteio:\n",
        "    if numero in numeros_jogados:\n",
        "        acertos += 1\n",
        "\n",
        "# Imprime a quantidade de números acertados\n",
        "print(f\"Você acertou {acertos} números!\")\n",
        "print(f'Os números ordenados são: {numeros_jogados}.')\n"
      ],
      "metadata": {
        "colab": {
          "base_uri": "https://localhost:8080/"
        },
        "id": "VFY6ythPkG9P",
        "outputId": "62d5f88b-a597-4677-8e1b-8e3bf1b28548"
      },
      "execution_count": 7,
      "outputs": [
        {
          "output_type": "stream",
          "name": "stdout",
          "text": [
            "Digite o 1º número sorteado (entre 1 e 60): 55\n",
            "Digite o 2º número sorteado (entre 1 e 60): 30\n",
            "Digite o 3º número sorteado (entre 1 e 60): 7\n",
            "Digite o 4º número sorteado (entre 1 e 60): 9\n",
            "Digite o 5º número sorteado (entre 1 e 60): 8\n",
            "Digite o 6º número sorteado (entre 1 e 60): 15\n",
            "Números jogados: [8, 2, 26, 7, 29, 54]\n",
            "Você acertou 2 números!\n",
            "Os números ordenados são: [2, 7, 8, 26, 29, 54].\n"
          ]
        }
      ]
    }
  ]
}