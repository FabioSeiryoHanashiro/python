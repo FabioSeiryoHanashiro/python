{
  "nbformat": 4,
  "nbformat_minor": 0,
  "metadata": {
    "colab": {
      "provenance": []
    },
    "kernelspec": {
      "name": "python3",
      "display_name": "Python 3"
    },
    "language_info": {
      "name": "python"
    }
  },
  "cells": [
    {
      "cell_type": "markdown",
      "source": [
        "# **Python para Engenharia de Dados**"
      ],
      "metadata": {
        "id": "A50RoR-uS7B_"
      }
    },
    {
      "cell_type": "markdown",
      "source": [
        "***Exercícios – Python para Engenharia de Dados - Estrutura Sequencial***"
      ],
      "metadata": {
        "id": "FuaM9a2OUVey"
      }
    },
    {
      "cell_type": "markdown",
      "source": [
        "1. Leia três números inteiros e imprima a média aritmética entre esses números."
      ],
      "metadata": {
        "id": "MKmWBFgDV-7s"
      }
    },
    {
      "cell_type": "code",
      "execution_count": 1,
      "metadata": {
        "colab": {
          "base_uri": "https://localhost:8080/"
        },
        "id": "-NbOyR-tS2dm",
        "outputId": "f781f04b-f460-4151-8b56-45ad432dab0e"
      },
      "outputs": [
        {
          "output_type": "stream",
          "name": "stdout",
          "text": [
            "Digite o 1a Número:1\n",
            "Digite o 2a Número:2\n",
            "Digite o 3a Número:3\n",
            "A média aritmética entre esses números é 2.0\n"
          ]
        }
      ],
      "source": [
        "x = int(input(\"Digite o 1a Número:\"))\n",
        "\n",
        "y = int(input(\"Digite o 2a Número:\"))\n",
        "\n",
        "z = int(input(\"Digite o 3a Número:\"))\n",
        "\n",
        "media = (x + y + z)/3\n",
        "\n",
        "print(\"A média aritmética entre esses números é\", media)"
      ]
    },
    {
      "cell_type": "markdown",
      "source": [
        "--------------------------------------------------------------------------------\n",
        "2. Faça um programa que receba o ano de nascimento de uma pessoa, o ano atual e imprima:\n",
        "\n",
        "a. A idade da pessoa no ano atual\n",
        "\n",
        "b. A idade que a pessoa terá em 2050"
      ],
      "metadata": {
        "id": "lRWxJ2VMWJRV"
      }
    },
    {
      "cell_type": "code",
      "source": [
        "ano_nasc = int(input(\"Digite seu ano de nascimento:\"))\n",
        "\n",
        "ano_atual = 2023\n",
        "\n",
        "ano_2050 = 2050\n",
        "\n",
        "idade_atual = ano_atual - ano_nasc\n",
        "\n",
        "idade_2050 = ano_2050 - ano_nasc\n",
        "\n",
        "print(\"A idade da pessoa no ano atual é: \", idade_atual)\n",
        "\n",
        "print(\"A idade que a pessoa terá em 2050: \", idade_2050)"
      ],
      "metadata": {
        "colab": {
          "base_uri": "https://localhost:8080/"
        },
        "id": "daNKYqnQWMnQ",
        "outputId": "9c3ebf8a-1d93-4340-932a-b5f24f017d7c"
      },
      "execution_count": 2,
      "outputs": [
        {
          "output_type": "stream",
          "name": "stdout",
          "text": [
            "Digite seu ano de nascimento:1980\n",
            "A idade da pessoa no ano atual é:  43\n",
            "A idade que a pessoa terá em 2050:  70\n"
          ]
        }
      ]
    },
    {
      "cell_type": "markdown",
      "source": [
        "--------------------------------------------------------------------------------\n",
        "3. Faça um programa que solicite ao usuário que informe os coeficientes a, b e c de uma equação de segundo grau, e que imprima as raízes desta equação (considere que os valores informados sempre retornarão raízes reais para a equação)."
      ],
      "metadata": {
        "id": "TNJCn1qvWdP1"
      }
    },
    {
      "cell_type": "code",
      "source": [
        "from math import sqrt\n",
        "\n",
        "a = None\n",
        "b = None\n",
        "c = None\n",
        "\n",
        "try:\n",
        "    a = int(input('Informe um número para a letra \"a\": '))\n",
        "    b = int(input('Informe um número para a letra \"b\": '))\n",
        "    c = int(input('Informe um número para a letra \"c\": '))\n",
        "except ValueError:\n",
        "        print(\"Valor inválido. Por favor, insira um número inteiro para 'a'.\")\n",
        "else:\n",
        "    delta = b**2 - 4 * a * c\n",
        "\n",
        "    if delta < 0:\n",
        "        print(\"Erro: o valor dentro da raiz quadrada é negativo.\")\n",
        "    else:\n",
        "        x1 = (-b + sqrt(delta)) / (2 * a)\n",
        "        x2 = (-b - sqrt(delta)) / (2 * a)\n",
        "        print(f'x1 = {x1:.2f}')\n",
        "        print(f'x2 = {x2:.2f}')"
      ],
      "metadata": {
        "colab": {
          "base_uri": "https://localhost:8080/"
        },
        "id": "6aNaYhXsWjAY",
        "outputId": "8b37a6c7-8755-4c6e-ee1c-252bc92307bb"
      },
      "execution_count": 11,
      "outputs": [
        {
          "output_type": "stream",
          "name": "stdout",
          "text": [
            "Informe um número para a letra \"a\": 10\n",
            "Informe um número para a letra \"b\": 11\n",
            "Informe um número para a letra \"c\": 12\n",
            "Erro: o valor dentro da raiz quadrada é negativo.\n"
          ]
        }
      ]
    },
    {
      "cell_type": "markdown",
      "source": [
        "--------------------------------------------------------------------------------\n",
        "4. Leia um número e imprima a tabuada de multiplicar deste número. Por exemplo, para o número 5:"
      ],
      "metadata": {
        "id": "jW6uB1wJWkK4"
      }
    },
    {
      "cell_type": "code",
      "source": [
        "numero = None\n",
        "\n",
        "try:\n",
        "    numero = int(input('Informe um número: '))\n",
        "except ValueError:\n",
        "    print('Valro informado não é valido!')\n",
        "else:\n",
        "    print(f'{numero} X 1 = {numero * 1}')\n",
        "    print(f'{numero} X 2 = {numero * 2}')\n",
        "    print(f'{numero} X 3 = {numero * 3}')\n",
        "    print(f'{numero} X 4 = {numero * 4}')\n",
        "    print(f'{numero} X 5 = {numero * 5}')\n",
        "    print(f'{numero} X 6 = {numero * 6}')\n",
        "    print(f'{numero} X 7 = {numero * 7}')\n",
        "    print(f'{numero} X 8 = {numero * 8}')\n",
        "    print(f'{numero} X 9 = {numero * 9}')\n",
        "    print(f'{numero} X 10 = {numero * 10}')"
      ],
      "metadata": {
        "colab": {
          "base_uri": "https://localhost:8080/"
        },
        "id": "DKSMxfmFWp3s",
        "outputId": "f0ec0cb2-00cd-4f5e-ef8f-24e95458fae7"
      },
      "execution_count": 15,
      "outputs": [
        {
          "output_type": "stream",
          "name": "stdout",
          "text": [
            "Informe um número: 6\n",
            "6 X 1 = 6\n",
            "6 X 2 = 12\n",
            "6 X 3 = 18\n",
            "6 X 4 = 24\n",
            "6 X 5 = 30\n",
            "6 X 6 = 36\n",
            "6 X 7 = 42\n",
            "6 X 8 = 48\n",
            "6 X 9 = 54\n",
            "6 X 10 = 60\n"
          ]
        }
      ]
    },
    {
      "cell_type": "markdown",
      "source": [
        "--------------------------------------------------------------------------------\n",
        "5. Receba um número positivo, calcule e mostre:\n",
        "\n",
        "a. O número digitado ao quadrado\n",
        "\n",
        "b. O número digitado ao cubo\n",
        "\n",
        "c. A raiz quadrada do número digitado\n",
        "\n",
        "d. A raiz cúbica do número digitado"
      ],
      "metadata": {
        "id": "xeTGjLijW3Xh"
      }
    },
    {
      "cell_type": "code",
      "source": [
        "import math\n",
        "\n",
        "x=int(input(\"Digite um número:\"))\n",
        "\n",
        "y=math.sqrt(x)\n",
        "\n",
        "z = x ** (1/3)\n",
        "\n",
        "print(\"Número ao quadrado\", x*2)\n",
        "\n",
        "print(\"Número ao cubo\", x*3)\n",
        "\n",
        "print(f\"Raiz quadrada: {y:.2f}\")\n",
        "\n",
        "print(f\"Raiz cúbica: {z:.2f}\")"
      ],
      "metadata": {
        "colab": {
          "base_uri": "https://localhost:8080/"
        },
        "id": "wh1gbIpgW84d",
        "outputId": "70f4e6cc-d8a5-4cb8-df44-96ac6aa8f6e5"
      },
      "execution_count": 16,
      "outputs": [
        {
          "output_type": "stream",
          "name": "stdout",
          "text": [
            "Digite um número:10\n",
            "Número ao quadrado 20\n",
            "Número ao cubo 30\n",
            "Raiz quadrada: 3.16\n",
            "Raiz cúbica: 2.15\n"
          ]
        }
      ]
    },
    {
      "cell_type": "markdown",
      "source": [
        "--------------------------------------------------------------------------------\n",
        "6. Todo restaurante, embora por lei não possa obrigar o cliente a pagar, cobra 10% para o garçom. Faça um programa que leia o valor gasto pelo cliente e informe o valor a ser pago de gorjeta."
      ],
      "metadata": {
        "id": "C8LraIavXCtV"
      }
    },
    {
      "cell_type": "code",
      "source": [
        "vlr_gasto = float(input(\"Informe o valor gasto: \"))\n",
        "\n",
        "vlr_gasto *= 0.1\n",
        "\n",
        "\n",
        "print(f\"O valor a ser pago de gorjeta é {vlr_gasto:.2f}\")"
      ],
      "metadata": {
        "colab": {
          "base_uri": "https://localhost:8080/"
        },
        "id": "YM7r7DmEXHsW",
        "outputId": "493f5246-db24-4495-d83c-28249359da47"
      },
      "execution_count": 19,
      "outputs": [
        {
          "output_type": "stream",
          "name": "stdout",
          "text": [
            "Informe o valor gasto: 100.01\n",
            "O valor a ser pago de gorjeta é 10.00\n"
          ]
        }
      ]
    },
    {
      "cell_type": "markdown",
      "source": [
        "--------------------------------------------------------------------------------\n",
        "7. Faça um programa que receba um número inteiro e que imprima o antecessor, o sucessor, o dobro e a metade do número informado."
      ],
      "metadata": {
        "id": "-X8c4_UwXO2c"
      }
    },
    {
      "cell_type": "code",
      "source": [
        "x=int(input(\"Digite um número:\"))\n",
        "\n",
        "ant = x - 1\n",
        "\n",
        "suc = x + 1\n",
        "\n",
        "dobro = x * 2\n",
        "\n",
        "metade = x / 2\n",
        "\n",
        "print(\"Antecessor\", ant)\n",
        "\n",
        "print(\"Sucessor\", suc)\n",
        "\n",
        "print(f\"Dobro: {dobro:.2f}\")\n",
        "\n",
        "print(f\"Metade: {metade:.2f}\")"
      ],
      "metadata": {
        "colab": {
          "base_uri": "https://localhost:8080/"
        },
        "id": "dJU8dEh_XSTy",
        "outputId": "4761e5a5-b923-4f50-b486-f8ecaa5ec346"
      },
      "execution_count": 20,
      "outputs": [
        {
          "output_type": "stream",
          "name": "stdout",
          "text": [
            "Digite um número:10\n",
            "Antecessor 9\n",
            "Sucessor 11\n",
            "Dobro: 20.00\n",
            "Metade: 5.00\n"
          ]
        }
      ]
    },
    {
      "cell_type": "markdown",
      "source": [
        "--------------------------------------------------------------------------------\n",
        "8. Faça um programa que, tendo como dados de entrada a altura (H - em metros) de um homem, calcule e apresente seu peso ideal utilizando a seguinte fórmula:\n",
        "\n",
        "Peso ideal (P) = (72,7 * H) – 58."
      ],
      "metadata": {
        "id": "lLFoMw5WXWXz"
      }
    },
    {
      "cell_type": "code",
      "source": [
        "altura = float(input('Informe a altura: '))\n",
        "\n",
        "peso_ideal = (72.7 * altura)-58\n",
        "\n",
        "print(f\"O peso ideal para sexo Masculino é {peso_ideal:.2f}\")"
      ],
      "metadata": {
        "colab": {
          "base_uri": "https://localhost:8080/"
        },
        "id": "j2k83J1-XckA",
        "outputId": "e9bea960-d30b-48ce-8b98-bcf9927a3c37"
      },
      "execution_count": 7,
      "outputs": [
        {
          "output_type": "stream",
          "name": "stdout",
          "text": [
            "Informe a altura: 1.80\n",
            "O peso ideal para sexo Masculino é 72.86\n"
          ]
        }
      ]
    },
    {
      "cell_type": "markdown",
      "source": [
        "--------------------------------------------------------------------------------\n",
        "9. Faça o mesmo programa do item anterior, utilizando a fórmula para o cálculo do peso ideal para mulheres:\n",
        "\n",
        "Peso ideal (P) = (62,1 * H) – 44,7"
      ],
      "metadata": {
        "id": "mJ9lwAB6Xiab"
      }
    },
    {
      "cell_type": "code",
      "source": [
        "altura = float(input('Informe a altura: '))\n",
        "\n",
        "peso_ideal = (62.1 * altura)-44.7\n",
        "\n",
        "print(f\"O peso ideal para sexo Feminino é {peso_ideal:.2f}\")"
      ],
      "metadata": {
        "colab": {
          "base_uri": "https://localhost:8080/"
        },
        "id": "GJoCFXO9Xk6T",
        "outputId": "46812795-8568-4a20-cdae-dbac3aa70603"
      },
      "execution_count": 21,
      "outputs": [
        {
          "output_type": "stream",
          "name": "stdout",
          "text": [
            "Informe a altura: 1.80\n",
            "O peso ideal para sexo Feminino é 67.08\n"
          ]
        }
      ]
    },
    {
      "cell_type": "markdown",
      "source": [
        "--------------------------------------------------------------------------------\n",
        "10. Faça um programa que leia duas variáveis e troque o conteúdo dessas duas variáveis. Em seguida, imprima o valor dessas variáveis invertido. Exemplo: A = 7, B = 9. Saída: A = 9, B = 7."
      ],
      "metadata": {
        "id": "d9tSevX-Xqow"
      }
    },
    {
      "cell_type": "code",
      "source": [
        "a = 7\n",
        "\n",
        "b = 9\n",
        "\n",
        "a,b = b,a\n",
        "\n",
        "print(\"O valor de A era 7 e agora é\", a)\n",
        "\n",
        "print(\"O valor de B era 9 agora é\", b)"
      ],
      "metadata": {
        "colab": {
          "base_uri": "https://localhost:8080/"
        },
        "id": "efDjmiWPXtOm",
        "outputId": "45076bc3-b7f1-4e38-b2d5-4fe650f193d4"
      },
      "execution_count": 22,
      "outputs": [
        {
          "output_type": "stream",
          "name": "stdout",
          "text": [
            "O valor de A era 7 e agora é 9\n",
            "O valor de B era 9 agora é 7\n"
          ]
        }
      ]
    },
    {
      "cell_type": "markdown",
      "source": [
        "--------------------------------------------------------------------------------\n",
        "11. Considerando uma eleição de apenas dois candidatos, faça um programa que leia o número total de eleitores, o número de votos do primeiro candidato e o número de votos do segundo candidato. Em seguida, o programa deverá apresentar o percentual de votos de cada um dos candidatos e o percentual de votos nulos."
      ],
      "metadata": {
        "id": "e3N4vfshX1jW"
      }
    },
    {
      "cell_type": "code",
      "source": [
        "total_eleitores = 1000\n",
        "\n",
        "c1 = int(input('Numero de votos do canditado 1: '))\n",
        "\n",
        "c2 = int(input('Numero de votos do canditado 2: '))\n",
        "\n",
        "#(B – A) / A x 100\n",
        "\n",
        "nulos = total_eleitores - c1 - c2\n",
        "\n",
        "perc_c1 = (c1/total_eleitores) * 100\n",
        "\n",
        "perc_c2 = (c2/total_eleitores) * 100\n",
        "\n",
        "perc_n = (nulos/total_eleitores) * 100\n",
        "\n",
        "print(f\"O candidato 1 recebeu {perc_c1:.2f}% dos votos.\")\n",
        "\n",
        "print(f\"O candidato 2 recebeu {perc_c2:.2f}% dos votos.\")\n",
        "\n",
        "print(f\"O percentual de votos nulos foi {perc_n:.2f}%.\")"
      ],
      "metadata": {
        "colab": {
          "base_uri": "https://localhost:8080/"
        },
        "id": "TGHRS6tPX5ws",
        "outputId": "af3a9b9f-57ce-4a3d-ba5f-c156112a1549"
      },
      "execution_count": 23,
      "outputs": [
        {
          "output_type": "stream",
          "name": "stdout",
          "text": [
            "Numero de votos do canditado 1: 500\n",
            "Numero de votos do canditado 2: 250\n",
            "O candidato 1 recebeu 50.00% dos votos.\n",
            "O candidato 2 recebeu 25.00% dos votos.\n",
            "O percentual de votos nulos foi 25.00%.\n"
          ]
        }
      ]
    }
  ]
}